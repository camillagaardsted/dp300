{
    "metadata": {
        "kernelspec": {
            "name": "SQL",
            "display_name": "SQL",
            "language": "sql"
        },
        "language_info": {
            "name": "sql",
            "version": ""
        }
    },
    "nbformat_minor": 2,
    "nbformat": 4,
    "cells": [
        {
            "cell_type": "markdown",
            "source": [
                "DP-300 Lab data\r\n",
                "\r\n",
                "Vi downloader zip fil fra GitHub med de officielle kursusfiler til vores Azure VM.\r\n",
                "\r\n",
                "1) Start din sql-dev VM i Azure portalen\r\n",
                "\r\n",
                "2) Forbind til serveren via Connect knappen (Remote desktop fil downloades og køres)\r\n",
                "    Login: dbadmin\r\n",
                "    Password:DummyPassword1234!!\r\n",
                "\r\n",
                "3) Åbn PowerShell ISE\r\n",
                "\r\n",
                "4) Kopier koden herunder og eksekver den\r\n",
                "\r\n",
                "5) Tjek at du har fået en folder c:\\Labfiles som indeholder filer til de efterfølgende opgaver fra det oficielle kursusmateriale som findes her: https://github.com/MicrosoftLearning/DP-300T00-Administering-Relational-Databases-on-Azure/tree/master/Instructions/Labs"
            ],
            "metadata": {
                "azdata_cell_guid": "ef04a138-3acc-4875-8e18-f3da4b3f48b0"
            }
        },
        {
            "cell_type": "code",
            "source": [
                "$zipFileName='dp300.zip'\r\n",
                "Invoke-WebRequest -Uri https://github.com/MicrosoftLearning/DP-300T00-Administering-Relational-Databases-on-Azure/archive/refs/heads/master.zip -OutFile $zipFileName\r\n",
                "dir\r\n",
                "$destinationPath='C:\\DP300'\r\n",
                "mkdir $destinationPath\r\n",
                "Expand-Archive -Path $zipFileName -DestinationPath $destinationPath\r\n",
                "$LabDestination=\"C:\\Labfiles\"\r\n",
                "dir \"$destinationPath\\DP-300T00-Administering-Relational-Databases-on-Azure-master\\AllFiles\\Labs\" | Copy-Item -Destination $LabDestination -Recurse"
            ],
            "metadata": {
                "azdata_cell_guid": "c4ba5c51-3258-42ff-aa97-650a77e599b3",
                "tags": []
            },
            "outputs": [],
            "execution_count": null
        },
        {
            "cell_type": "markdown",
            "source": [
                "\r\n",
                "\r\n",
                "\r\n",
                ""
            ],
            "metadata": {
                "azdata_cell_guid": "49ef8d3a-abcd-4161-b289-9d9ad6cdcd56"
            }
        }
    ]
}