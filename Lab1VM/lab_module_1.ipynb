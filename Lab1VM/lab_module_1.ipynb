{
    "metadata": {
        "kernelspec": {
            "name": "powershell",
            "display_name": "PowerShell"
        },
        "language_info": {
            "name": "powershell",
            "codemirror_mode": "shell",
            "mimetype": "text/x-sh",
            "file_extension": ".ps1"
        }
    },
    "nbformat_minor": 2,
    "nbformat": 4,
    "cells": [
        {
            "cell_type": "markdown",
            "source": [
                "# DP-300 Alternativ Lab 1"
            ],
            "metadata": {
                "azdata_cell_guid": "68b8bcd3-cb8f-4046-ac09-d8a5e5693923"
            }
        },
        {
            "cell_type": "markdown",
            "source": [
                "Formål:Automatiseret deployment af en Azure VM via template fil.\r\n",
                "\r\n",
                "1) Åbn din browser på din lokal maskine og log ind på https://portal.azure.com. Første gang du tilgår din Azure shell, vil du blive prompted efter hvilken storage account, der skal anvendes, og du bliver spurgt om du vil anvende bash (Linux) eller PowerShell core (også Linux!). Man kan altid skifte mellem bash og PowerShell senere. Vælg OK til at oprette en ny storage account automatisk og vælg PowerShell.\r\n",
                "\r\n",
                "2) Tjek PowerShell version og hvilket operativ system (OS) du kører på med følgende kommando. Det er indbygget systemvariabel som du aflæser:"
            ],
            "metadata": {
                "azdata_cell_guid": "42b0b49a-e4e1-4631-9c96-3d0002c0cc4e"
            }
        },
        {
            "cell_type": "code",
            "source": [
                "$PSVersionTable"
            ],
            "metadata": {
                "azdata_cell_guid": "06b8ecd7-0e55-4170-bc30-444087b44e2a"
            },
            "outputs": [],
            "execution_count": null
        },
        {
            "cell_type": "markdown",
            "source": [
                "3) PowerShell kan anvendes til at scripte oprettelsen af ressourcer i Azure. Man kan oprette ressourcer direkte ved at skrive cmdlets med sigende navne. Opret først en ny ressourcegruppe: "
            ],
            "metadata": {
                "azdata_cell_guid": "2d7fc047-c9a1-4f4d-8c15-1873a5efe294"
            }
        },
        {
            "cell_type": "code",
            "source": [
                "$resourceGroupName='sqlaarhus' \r\n",
                "$location='westeurope' \r\n",
                "New-AzResourceGroup -Name $resourceGroupName -Location $location"
            ],
            "metadata": {
                "azdata_cell_guid": "f11c1691-5a89-49f0-9157-fc2fbdd90925"
            },
            "outputs": [],
            "execution_count": null
        },
        {
            "cell_type": "markdown",
            "source": [
                "3) Vi har brug for en stump kode til oprettelsen af vores VM. Vi starter med at downloade kodefilen fra GitHub og gemme den i Azure shell. Det gør du med følgende kommando: "
            ],
            "metadata": {
                "azdata_cell_guid": "83412378-ba50-4f1c-967d-b7f75f201b8b"
            }
        },
        {
            "cell_type": "code",
            "source": [
                "Invoke-WebRequest -Uri 'https://raw.githubusercontent.com/camillagaardsted/dp300/main/Lab1VM/deploy_vm.txt' -OutFile deploy_vm.ps1"
            ],
            "metadata": {
                "azdata_cell_guid": "76062d2f-6c9a-4d14-97e4-8ac23d353a6d"
            },
            "outputs": [],
            "execution_count": null
        },
        {
            "cell_type": "markdown",
            "source": [
                "4) Tjek med dir eller ls kommando, at du nu har en fil lokalt i din shell som hedder deploy_vm.ps1"
            ],
            "metadata": {
                "azdata_cell_guid": "7c388b6d-dada-4b01-976f-f76400441ad6"
            }
        },
        {
            "cell_type": "code",
            "source": [
                "ls"
            ],
            "metadata": {
                "azdata_cell_guid": "fdbfad2f-84d1-4975-ab39-8d0e2bf3a1db"
            },
            "outputs": [],
            "execution_count": null
        },
        {
            "cell_type": "markdown",
            "source": [
                "5. Nu skal du redigere i filen. Det gør du ved at klikke på {} \"Open editor\" i den grå bar øverst i shell vinduet. Ude til venstre kan du se filer og foldere. Vælg deploy\\_vm.ps1 filen, så indholdet af den kommer til syne i editoren til højre.\n",
                "    \n",
                "6. I linje 4 erstatter du dummy passwordet \"DummyPassword1234!\" med \"SuperUsers1234!!\". Et password for en VM skal opfylde følgende længde krav:  \n",
                "     Portal - between 12 - 72 characters  \n",
                "    PowerShell - between 8 - 123 characters  \n",
                "    CLI - between 12 - 123 Have lower characters  \n",
                "    Have upper characters Have a digit  \n",
                "    Have a special character (Regex match \\[\\\\W\\_\\])  \n",
                "    se [https://docs.microsoft.com/en-us/azure/virtual-machines/windows/faq](https://docs.microsoft.com/en-us/azure/virtual-machines/windows/faq)"
            ],
            "metadata": {
                "azdata_cell_guid": "e33560d4-d986-4bd0-a7b5-c60782b335e8"
            }
        },
        {
            "cell_type": "markdown",
            "source": [
                "7\\. Tjek om PowerShell modulet Az er tilgængeligt på din lokale PC. Åbn PowerShell ISE ved at klikke på Windows ikonet og indtast ISE. Skriv følgende kommando som viser tilgængelige moduler der hedder noget med Az i begyndelsen af modulnavnet\n",
                "\n",
                "Get-Module -ListAvailable az\\*\n",
                "\n",
                "8\\. Login i Azure portalen fra ISE via cmdlet Connect-AzAccount\n",
                "\n",
                "9) Opret brugere og grupper i dit Azure AD via Camillas script\n",
                "\n",
                "10) Find oversigten over brugere og grupper i Azure portalen i din browser\n",
                "\n",
                "11) Når din VM er færdig med deployment kan du forbinde til den via Remote desktop - følg guiden i portalen ved at klikke på Connect knappen\n",
                "\n",
                "12) Find subnet og angiv at det skal anvendes til Microsoft.Sql - dermed kan vi senere forbinde til en Azure SQL database fra vores VM og kun tillade trafik til databasen fra det specifikke lokale subnet."
            ],
            "metadata": {
                "azdata_cell_guid": "e79de44b-ed3f-4a50-bf5a-d2d8f6b118ea"
            }
        }
    ]
}