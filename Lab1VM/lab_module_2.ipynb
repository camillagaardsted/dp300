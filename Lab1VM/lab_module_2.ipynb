{
    "metadata": {
        "kernelspec": {
            "name": "SQL",
            "display_name": "SQL",
            "language": "sql"
        },
        "language_info": {
            "name": "sql",
            "version": ""
        }
    },
    "nbformat_minor": 2,
    "nbformat": 4,
    "cells": [
        {
            "cell_type": "markdown",
            "source": [
                "# Alternativ lab 2 DP-300 kursus\n",
                "\n",
                "Formål:Deploy Azure SQL Database, Firewall rules, Allow Azure Services, Service objectives, Elastic pool, Change Service tier"
            ],
            "metadata": {
                "azdata_cell_guid": "074b5a14-c7ee-487f-8999-b8a3312fe979"
            }
        },
        {
            "cell_type": "markdown",
            "source": [
                "## Oprettelse af en ny Azure SQL Server og database via portalen\n",
                "\n",
                "1. Åbn Azure portalen ([https://portal.azure.com](https://portal.azure.com/)) i din browser\n",
                "    \n",
                "2. Opret en ny ressource gruppe ved at klikke på Create a resource - søg efter resource group\n",
                "    \n",
                "\n",
                "> > Resource Group Name: DK\n",
                "> \n",
                "> > Region: West Europe\n",
                "\n",
                "3. Opret en ny resource: SQL Server (logical server)\n",
                "\n",
                "> > Resource Group: DK\n",
                "> \n",
                "> > Server name:sql-\\<dine initialer\\>-\\<yyyymmdd\\> f.eks. sql-cg-20211108\n",
                "> \n",
                "> > Location:West Europe\n",
                "> \n",
                "> > Behold default indstillingen forAuthentication method (Use SQL authentication)\n",
                "> \n",
                "> > Server admin login:sqldbaadmin\n",
                "> \n",
                "> > Password:Super4U! (NB læg mærke til 8 tegn er nok her...)\n",
                "> \n",
                "> > Under Networking Behold default Firewall rules: Allow Azure Services: No\n",
                "> \n",
                "> > MicrosoftDefender for SQL: Not now\n",
                "> \n",
                "> > Bemærk serveren er bare en logisk server på en given lokation - vi har ikke taget stilling til service og compute tier dvs virtuel CPU/RAM, data størrelse og afregningsmodel og dermed pris. Det foregår på databaseniveau.\n",
                "\n",
                "4. Opret en ny resource: SQL Database\n",
                "\n",
                "> > Resource group: DK\n",
                "> \n",
                "> > Database name: AdventureworksCloudDB\n",
                "> \n",
                "> > Server:Den du lige har oprettet i punkt 3 (NB man kan også lave en ny server adhoc her)\n",
                "> \n",
                "> > Elastic pool: No\n",
                "> \n",
                "> > Compute+storage: Klik på Configure Database\n",
                "> > \n",
                "> > Undersøg de forskellige Service tier muligheder\n",
                "> > \n",
                "> > Bemærk: Read scale-out mulighed er Enabled på Business Critical og på den gamle Premium\n",
                "> > \n",
                "> > Bemærk: Hyperscale advarsel - kan ikke ændre derfra og til de andre service tier muligheder\n",
                "> > \n",
                "> > Bemærk: Mulighed for at vælge Hardware configuration med VM\n",
                "> > \n",
                "> > Se yderligere info på [https://docs.microsoft.com/en-us/azure/azure-sql/database/resource-limits-vcore-single-databases](https://docs.microsoft.com/en-us/azure/azure-sql/database/resource-limits-vcore-single-databases)\n",
                "> > \n",
                "> > Hvis man scripter oprettelsen af en database via SQL/PowerShell angiver man service tier\n",
                "\n",
                "> <span style=\"font-size: 14px;\">Vælg Service tier:General Purpose</span>\n",
                "\n",
                "> > <span style=\"font-size: 14px;\">Compute tier: Serverless (billigste løsning for os, når det ikke er et produktionsmiljø med mange forespørgsler)<br></span>Min vCores: 5  \n",
                "> > Max vCores: 40  \n",
                "> > Zone redundant: No\n",
                "> \n",
                "> <span style=\"font-size: 14px;\">Backup storage redundancy: Geo-redundant backup storage (Dermed gemmes vores automatiske database backup også i North Europe (Ireland) som er makker regionen til West Europe (Holland.</span>\n",
                "> \n",
                "> Networking: Bemærk muligheden for at tilføje din nuværende ipadresse her - vi vil hellere håndtere det på databaseniveau\n",
                "> \n",
                "> Networking: Bemærk muligheden for at registrere et private endpoint - det håndteres på sql server niveau og afgrænser adgangen til ipadresser på et virtuelt netværk i Azure. Vi lægger denne restriktion på senere i dette Lab.\n",
                "> \n",
                "> Security: Defender og Ledger: Not now\n",
                "> \n",
                "> Additonal settings: Data source -\\> Use existing data: Sample  \n",
                "> Database collation:Læg mærke til den låser sig fast på SQL\\_Latin1\\_General\\_CP1\\_CI\\_AS, når vi vælger at tage udgangspunkt i en eksisterende database. For nye database kan man vælge f.eks. Danish\\_Norwegian\\_CI\\_AS\n",
                "\n",
                "<span style=\"font-size: 14px;\">5) Find sql serveren i listen af ressourcer i Azure og klik ind på den. Under overview kan du se navnet på Server admin og Server name</span>\n",
                "\n",
                "<span style=\"font-size: 14px;\">6) Forsøg at forbinde til Azure SQL serveren fra SQL Server Management Studio (SSMS) på din lokale maskine. Anvend SQL Server Authentication.</span>\n",
                "\n",
                "> <span style=\"font-size: 14px;\">Server Admin: sqldbaadmin</span>\n",
                "> \n",
                "> <span style=\"font-size: 14px;\">Password: Super4U!</span>\n",
                "\n",
                "<span style=\"font-size: 14px;\">7) Forbindelsen mislykkes, men SSMS påpeger at det nok er en firewall regel som mangler. Vælg cancel i SSMS.</span>\n",
                "\n",
                "<span style=\"font-size: 14px;\">8) Klik på Show firewall settings i Azure portal for din sql server under Overview</span>\n",
                "\n",
                "<span style=\"font-size: 14px;\">9) Klik på knappen Add client IP i toppen af billedet. Navngiv reglen \"SuperUsers Hillerød\" i stedet for det automatiske navn som foreslåes. Klik Save for at gemme reglen.</span>\n",
                "\n",
                "<span style=\"font-size: 14px;\">10) Vend tilbage til SSMS og test at du nu fint kan forbinde til din Azure SQL server. Den dukker op som en blå spand ude til venstre i Object Explorer.</span>\n",
                "\n",
                "<span style=\"font-size: 14px;\">11) Klik på den blå spand og vælg New Query i toolbaren eller via højreklik. Du står nu på master databasen.</span>\n",
                "\n",
                "<span style=\"font-size: 14px;\">12) Tjek hvilke databaser du har ved at køre følgende statement:&nbsp;</span>"
            ],
            "metadata": {
                "azdata_cell_guid": "89ded775-643d-4e6d-aacb-639cda43d473"
            }
        },
        {
            "cell_type": "code",
            "source": [
                "SELECT      *\r\n",
                "FROM        sys.databases"
            ],
            "metadata": {
                "azdata_cell_guid": "0f689e91-56a0-4953-a1bf-124d3ed1627d"
            },
            "outputs": [],
            "execution_count": null
        },
        {
            "cell_type": "markdown",
            "source": [
                "Vi har kun <span style=\"color: #09885a;\">2</span> databaser i form af <span style=\"color: #0000ff;\">master</span> databasen og AdventureworksCloudDB. Tempdb findes også, men vi administrerer den ikke. Her er lidt info om tempdb og størrelsen på den. Se https:<span style=\"color: #000000;\">//</span>docs.microsoft.com<span style=\"color: #000000;\">/</span>en<span style=\"color: #000000;\">-</span>us<span style=\"color: #000000;\">/</span><span style=\"color: #0000ff;\">sql</span><span style=\"color: #000000;\">/</span>relational<span style=\"color: #000000;\">-</span>databases<span style=\"color: #000000;\">/</span>databases<span style=\"color: #000000;\">/</span>tempdb<span style=\"color: #000000;\">-</span><span style=\"color: #0000ff;\">database</span>?view<span style=\"color: #000000;\">=</span><span style=\"color: #0000ff;\">sql</span><span style=\"color: #000000;\">-</span><span style=\"color: #0000ff;\">server</span><span style=\"color: #000000;\">-</span>ver15#tempdb<span style=\"color: #000000;\">-</span><span style=\"color: #0000ff;\">database</span><span style=\"color: #000000;\">-</span><span style=\"color: #0000ff;\">in</span><span style=\"color: #000000;\">-</span><span style=\"color: #0000ff;\">sql</span><span style=\"color: #000000;\">-</span><span style=\"color: #0000ff;\">database</span>\n",
                "\n",
                "<span style=\"color: #0000ff;\">13) Find hvilke firewall regler der er defineret på server niveau via denne query. Der skulle gerne være en enkelt regel som du oprettede via portalen:</span>"
            ],
            "metadata": {
                "azdata_cell_guid": "2560b972-6bb0-4468-a9bb-c10c415614c2"
            }
        },
        {
            "cell_type": "code",
            "source": [
                "SELECT\t\t*\r\n",
                "FROM\t\tsys.firewall_rules"
            ],
            "metadata": {
                "azdata_cell_guid": "fd327f02-53b3-4814-a5d5-0cf3a08ea804"
            },
            "outputs": [],
            "execution_count": null
        },
        {
            "cell_type": "markdown",
            "source": [
                "14. Gå tilbage til portalen og sæt Yes ud for \"Allow Azure services and resources to access this server\" under Firewalls and virtual networks for din sql server. Husk at klikke Save for at gemme indstillingen.\n",
                "15. Kør query'en som viser server firewall regler igen - og bid mærke i den nye 4x0 regel **AllowAllWindowsAzureIps**. Den tillader adgang fra **ALLE** maskiner som har en ipadresse i et Azure Datacenter hvor som helst på jorden!"
            ],
            "metadata": {
                "azdata_cell_guid": "93d796a5-a15e-4b49-8764-254e7552b16e"
            }
        },
        {
            "cell_type": "code",
            "source": [
                "SELECT\t\t*\r\n",
                "FROM\t\tsys.firewall_rules"
            ],
            "metadata": {
                "azdata_cell_guid": "61db5fc7-1d62-43a8-b207-42c6880e2d15"
            },
            "outputs": [],
            "execution_count": null
        },
        {
            "cell_type": "markdown",
            "source": [
                "16. Forbind med remote desktop til den Azure VM vi oprettede i Lab 1.   \n",
                "    Login: dbadmin  \n",
                "    Password:SuperUsers1234!!\n",
                "    \n",
                "17. Åbn SSMS og forsøg at forbinde til din egen eller til en medkursists Azure SQL Server. Du vil kunne forbinde til din nabos, hvis han/hun har oprettet 4x0 reglen herover!\n",
                "    \n",
                "    Server navn: Din eller gerne din medkursists servernavn  \n",
                "    Server Admin: sqldbaadmin  \n",
                "    Password: Super4U!\n",
                "    \n",
                "18. Opret en ny Azure SQL Database via SSMS på den server du er logget ind på. Hvis du højreklikker på Databases i Object Explorer kan du vælge om du vil scripte direkte som SQL eller indtaste i et vindue hhv New Database script / New database... (TIP Læs eventuelt allerede punkt 20 nu som giver hjælp til scripting)\n",
                "    \n",
                "    > Collation:Danish\\_norwegian\\_CI\\_AS  \n",
                "    > Name: TheHandel  \n",
                "    > Edition:GeneralPurpose  \n",
                "    > Service Objective:GP\\_Gen5\\_2  \n",
                "    > Max Size: 20 GB\n",
                "    \n",
                "19. Opret endnu en database via scriptet her. Bemærk S'et i GP\\_**S**\\_Gen5\\_2 - det betyder Serverless:"
            ],
            "metadata": {
                "azdata_cell_guid": "da904a45-fe82-4976-95d5-4d17438d8ade"
            }
        },
        {
            "cell_type": "code",
            "source": [
                "CREATE DATABASE Kaffehandel\r\n",
                "COLLATE DANISH_NORWEGIAN_CI_AS\r\n",
                "(\r\n",
                "\t EDITION = 'GeneralPurpose'\r\n",
                "\t,SERVICE_OBJECTIVE = 'GP_S_Gen5_2'\r\n",
                "\t, MAXSIZE = 20 GB\r\n",
                ");"
            ],
            "metadata": {
                "azdata_cell_guid": "d3c29f6d-19bc-47e6-9334-12d8469dbb90"
            },
            "outputs": [],
            "execution_count": null
        },
        {
            "cell_type": "markdown",
            "source": [
                "20. Hvis du markerer CREATE DATABASE i SSMS og taster F1 åbner din browser en hjælpeartikel med Microsofts officielle dokumentation til SQL Server. Bemærk at der er en CREATE DATABASE artikel til de forskellige produkter: SQL Server (on premise), SQL Database, Managed Instance, Synapse etc. Vælg SQL Database som produkt.\n",
                "21. Bid mærke i de mange forskellige Service objectives ELLER man kan angive en ELASTIC\\_POOL. Der er også en ekstra funktionalitet for Azure SQL databaser, som gør det meget nemt at kopiere en database via CREATE DATABASE-COPY syntaksen i boks 2.\n",
                "22. Opret en database mere via COPY syntaksen:"
            ],
            "metadata": {
                "azdata_cell_guid": "5baaaeb1-9246-4abb-af20-58e9612c722f"
            }
        },
        {
            "cell_type": "code",
            "source": [
                "CREATE DATABASE AdvCloudKopi\r\n",
                "AS COPY OF AdventureworksCloudDB\r\n",
                "(\r\n",
                "\tSERVICE_OBJECTIVE = 'GP_S_Gen5_1'\r\n",
                ")\r\n",
                ""
            ],
            "metadata": {
                "azdata_cell_guid": "7dd61be8-1e81-4733-bfca-e7f53d6c94fd"
            },
            "outputs": [],
            "execution_count": null
        },
        {
            "cell_type": "markdown",
            "source": [
                "23. Man kan finde Service objetive for en database via SQL funktionen DATABASEPROPERTYEX og øvrige databaseindstillinger således. NB Man skal stå på den aktuelle database - står man på master returneres der bare NULL:"
            ],
            "metadata": {
                "azdata_cell_guid": "27eddd16-15ee-434f-b1a1-cdefcd2c9af1"
            }
        },
        {
            "cell_type": "code",
            "source": [
                "SELECT\t\tDATABASEPROPERTYEX('AdventureWorksCloudDB','Edition')\r\n",
                "\t\t\t,DATABASEPROPERTYEX('AdventureworksCloudDB','MaxSizeInBytes')\r\n",
                "\t\t\t,DATABASEPROPERTYEX('AdventureworksCloudDB','ServiceObjective')\r\n",
                ""
            ],
            "metadata": {
                "azdata_cell_guid": "bb237f3a-c619-4a73-9bc8-e74246062b79"
            },
            "outputs": [],
            "execution_count": null
        },
        {
            "cell_type": "markdown",
            "source": [
                "24) Sæt DBA group som Azure AD admin for din sql server i portalen"
            ],
            "metadata": {
                "azdata_cell_guid": "642d62f9-9d04-4d46-afbe-f0d27f980ce9"
            }
        }
    ]
}